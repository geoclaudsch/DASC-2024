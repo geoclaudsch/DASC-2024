{
 "cells": [
  {
   "cell_type": "markdown",
   "metadata": {
    "id": "nfuGzI5_Y5pQ"
   },
   "source": [
    "# **Sehr simples ANN für die Iris-Daten**\n",
    "\n",
    "\n",
    "---\n",
    "\n"
   ]
  },
  {
   "cell_type": "markdown",
   "metadata": {
    "id": "EQH9o_iPZBm6"
   },
   "source": [
    "# Bibliotheken einladen"
   ]
  },
  {
   "cell_type": "code",
   "execution_count": 1,
   "metadata": {
    "id": "uOro45dNYxZD"
   },
   "outputs": [],
   "source": [
    "import numpy as np\n",
    "import matplotlib.pyplot as plt\n",
    "import tensorflow as tf\n",
    "from tensorflow.keras.models import Sequential\n",
    "from tensorflow.keras.layers import Dense, Input\n",
    "from sklearn.datasets import load_iris\n",
    "from sklearn.model_selection import train_test_split\n",
    "from sklearn.preprocessing import OneHotEncoder, StandardScaler"
   ]
  },
  {
   "cell_type": "markdown",
   "metadata": {
    "id": "CamZsLMdZDIw"
   },
   "source": [
    "# Iris-Datensatz laden und vorbereiten\n",
    "\n",
    "* **One-Hot Encoding**: kategorische Daten werden in eine One-Hot-Darstellung umgewandelt. Das bedeutet, dass jede Kategorie durch einen Binärvektor dargestellt wird, wobei nur ein Element 1 ist (für die entsprechende Klasse), alle anderen Elemente sind 0.\n",
    "\n",
    "* **Standardscaler**: skaliert die Variablen auf Standardnormalverteilung (Mittelwert = 0, Breite Abhängig von Varianz)"
   ]
  },
  {
   "cell_type": "code",
   "execution_count": 2,
   "metadata": {
    "id": "br2ZAadkZIEl"
   },
   "outputs": [],
   "source": [
    "# Iris-Datensatz laden\n",
    "iris = load_iris()\n",
    "X = iris['data']  # Merkmale\n",
    "y = iris['target']  # Zielvariable (Klassen)\n",
    "\n",
    "# Zielvariable in One-Hot-Encoding umwandeln\n",
    "encoder = OneHotEncoder(sparse_output=False)\n",
    "y_onehot = encoder.fit_transform(y.reshape(-1, 1))\n",
    "\n",
    "# Trainings- und Testdaten aufteilen\n",
    "X_train, X_test, y_train, y_test = train_test_split(X, y_onehot, test_size=0.2, random_state=42)\n",
    "\n",
    "# Merkmale standardisieren\n",
    "scaler = StandardScaler()\n",
    "X_train = scaler.fit_transform(X_train)\n",
    "X_test = scaler.transform(X_test)"
   ]
  },
  {
   "cell_type": "markdown",
   "metadata": {
    "id": "qJdRbzH_aBAo"
   },
   "source": [
    "# Neuronales Netz aufbauen\n",
    "1. Eingabeschicht:\n",
    "> Nimmt die 4 Merkmale (Sepal- und Petal-Länge/-Breite) des Iris-Datensatzes als Eingabe.\n",
    "\n",
    "2. Versteckte Schichten:\n",
    "> Enthalten 10 Neuronen mit der ReLU-Aktivierungsfunktion, die Nichtlinearitäten modelliert.\n",
    "\n",
    "3. Ausgabeschicht:\n",
    "> Enthält 3 Neuronen (eine für jede Klasse: Setosa, Versicolor, Virginica) mit der Softmax-Aktivierungsfunktion, die Wahrscheinlichkeiten für die Klassen berechnet."
   ]
  },
  {
   "cell_type": "code",
   "execution_count": 3,
   "metadata": {
    "id": "N0tkp4XuaQJh"
   },
   "outputs": [],
   "source": [
    "model = Sequential([\n",
    "    Input(shape=(4,)),                                             # Eingabeschicht für die 4 Merkmale\n",
    "    Dense(10, activation='relu'),                                  # Versteckte Schicht mit 10 Neuronen\n",
    "    Dense(3, activation='softmax')                                 # Ausgabeschicht mit 3 Klassen\n",
    "])"
   ]
  },
  {
   "cell_type": "markdown",
   "metadata": {
    "id": "3XcU4iUdaXws"
   },
   "source": [
    "# Modell kompilieren / Hyperparameter festlegen\n",
    "\n",
    "* **optimizer**: Der Optimierungsalgorithmus, der die Gewichte des Modells aktualisiert. --> Adam - stabil und schnell,\n",
    "* **loss**: Die Verlustfunktion, die misst, wie gut das Modell während des Trainings performt. --> categorical crossentropy - geeignet für Klassifizierung mit mehr als zwei Klassen\n",
    "* **metrics**: Eine Liste von Metriken, die während des Trainings überwacht werden. --> accuracy."
   ]
  },
  {
   "cell_type": "code",
   "execution_count": 4,
   "metadata": {
    "id": "DgPKrEM8aYMi"
   },
   "outputs": [],
   "source": [
    "model.compile(\n",
    "    optimizer='adam',               # Optimierungsalgorithmus\n",
    "    loss='categorical_crossentropy', # Verlustfunktion für Mehrklassenklassifikation\n",
    "    metrics=['accuracy']            # Genauigkeit als Metrik\n",
    ")"
   ]
  },
  {
   "cell_type": "markdown",
   "metadata": {
    "id": "N3xEaylwaiTC"
   },
   "source": [
    "# Modell trainieren / Hyperparameter festlegen\n",
    "\n",
    "* **Anzahl der Epochen**: In jeder Epoche sieht das Modell den gesamten Trainingsdatensatz mindestens einmal.\n",
    "* **Validation_split**: Anteil der Trainingsdaten, der für die Validierung verwendet wird - hier 20%; Überwachung der Leistung auf Validierungsdaten (z. B. zur Erkennung von Overfitting).\n",
    "* **Batch_size**: Die Batchgröße gibt an, wie viele Datenpunkte gleichzeitig durch das Modell verarbeitet werden, bevor ein Gewichtungsupdate erfolgt. Kleine Batchgrößen: Bessere Generalisierung, aber langsamer.\n",
    "* **Verbose**: Fortschrittsanzeige, Info zum Verlauf der Epochen (mögliche Werte 0,1,2)"
   ]
  },
  {
   "cell_type": "code",
   "execution_count": 5,
   "metadata": {
    "colab": {
     "base_uri": "https://localhost:8080/"
    },
    "id": "PC9cEzzeal7z",
    "outputId": "de2ed370-9ce3-4272-ffcc-c4b5b9c51196"
   },
   "outputs": [
    {
     "name": "stdout",
     "output_type": "stream",
     "text": [
      "Epoch 1/50\n",
      "10/10 [==============================] - 1s 35ms/step - loss: 1.6386 - accuracy: 0.2708 - val_loss: 1.4983 - val_accuracy: 0.2083\n",
      "Epoch 2/50\n",
      "10/10 [==============================] - 0s 9ms/step - loss: 1.5010 - accuracy: 0.2604 - val_loss: 1.4169 - val_accuracy: 0.1250\n",
      "Epoch 3/50\n",
      "10/10 [==============================] - 0s 9ms/step - loss: 1.3841 - accuracy: 0.2604 - val_loss: 1.3371 - val_accuracy: 0.1250\n",
      "Epoch 4/50\n",
      "10/10 [==============================] - 0s 9ms/step - loss: 1.2734 - accuracy: 0.2500 - val_loss: 1.2653 - val_accuracy: 0.1250\n",
      "Epoch 5/50\n",
      "10/10 [==============================] - 0s 9ms/step - loss: 1.1767 - accuracy: 0.3229 - val_loss: 1.2004 - val_accuracy: 0.2083\n",
      "Epoch 6/50\n",
      "10/10 [==============================] - 0s 11ms/step - loss: 1.0924 - accuracy: 0.5000 - val_loss: 1.1432 - val_accuracy: 0.3750\n",
      "Epoch 7/50\n",
      "10/10 [==============================] - 0s 9ms/step - loss: 1.0192 - accuracy: 0.5625 - val_loss: 1.0954 - val_accuracy: 0.4167\n",
      "Epoch 8/50\n",
      "10/10 [==============================] - 0s 8ms/step - loss: 0.9590 - accuracy: 0.6146 - val_loss: 1.0550 - val_accuracy: 0.5000\n",
      "Epoch 9/50\n",
      "10/10 [==============================] - 0s 8ms/step - loss: 0.9105 - accuracy: 0.6250 - val_loss: 1.0208 - val_accuracy: 0.5000\n",
      "Epoch 10/50\n",
      "10/10 [==============================] - 0s 9ms/step - loss: 0.8703 - accuracy: 0.6458 - val_loss: 0.9894 - val_accuracy: 0.5000\n",
      "Epoch 11/50\n",
      "10/10 [==============================] - 0s 8ms/step - loss: 0.8381 - accuracy: 0.6458 - val_loss: 0.9619 - val_accuracy: 0.5000\n",
      "Epoch 12/50\n",
      "10/10 [==============================] - 0s 8ms/step - loss: 0.8083 - accuracy: 0.6771 - val_loss: 0.9375 - val_accuracy: 0.5417\n",
      "Epoch 13/50\n",
      "10/10 [==============================] - 0s 11ms/step - loss: 0.7833 - accuracy: 0.6771 - val_loss: 0.9162 - val_accuracy: 0.5417\n",
      "Epoch 14/50\n",
      "10/10 [==============================] - 0s 11ms/step - loss: 0.7617 - accuracy: 0.7083 - val_loss: 0.8965 - val_accuracy: 0.5833\n",
      "Epoch 15/50\n",
      "10/10 [==============================] - 0s 10ms/step - loss: 0.7431 - accuracy: 0.7083 - val_loss: 0.8776 - val_accuracy: 0.5833\n",
      "Epoch 16/50\n",
      "10/10 [==============================] - 0s 10ms/step - loss: 0.7261 - accuracy: 0.7083 - val_loss: 0.8613 - val_accuracy: 0.6250\n",
      "Epoch 17/50\n",
      "10/10 [==============================] - 0s 10ms/step - loss: 0.7108 - accuracy: 0.7188 - val_loss: 0.8422 - val_accuracy: 0.6667\n",
      "Epoch 18/50\n",
      "10/10 [==============================] - 0s 9ms/step - loss: 0.6962 - accuracy: 0.7500 - val_loss: 0.8242 - val_accuracy: 0.7500\n",
      "Epoch 19/50\n",
      "10/10 [==============================] - 0s 8ms/step - loss: 0.6816 - accuracy: 0.7604 - val_loss: 0.8086 - val_accuracy: 0.7917\n",
      "Epoch 20/50\n",
      "10/10 [==============================] - 0s 7ms/step - loss: 0.6684 - accuracy: 0.7708 - val_loss: 0.7941 - val_accuracy: 0.7917\n",
      "Epoch 21/50\n",
      "10/10 [==============================] - 0s 8ms/step - loss: 0.6564 - accuracy: 0.7708 - val_loss: 0.7786 - val_accuracy: 0.7917\n",
      "Epoch 22/50\n",
      "10/10 [==============================] - 0s 8ms/step - loss: 0.6452 - accuracy: 0.7708 - val_loss: 0.7631 - val_accuracy: 0.7917\n",
      "Epoch 23/50\n",
      "10/10 [==============================] - 0s 9ms/step - loss: 0.6340 - accuracy: 0.8021 - val_loss: 0.7486 - val_accuracy: 0.7917\n",
      "Epoch 24/50\n",
      "10/10 [==============================] - 0s 9ms/step - loss: 0.6228 - accuracy: 0.8021 - val_loss: 0.7356 - val_accuracy: 0.7917\n",
      "Epoch 25/50\n",
      "10/10 [==============================] - 0s 9ms/step - loss: 0.6127 - accuracy: 0.8021 - val_loss: 0.7220 - val_accuracy: 0.7917\n",
      "Epoch 26/50\n",
      "10/10 [==============================] - 0s 8ms/step - loss: 0.6025 - accuracy: 0.7917 - val_loss: 0.7092 - val_accuracy: 0.7917\n",
      "Epoch 27/50\n",
      "10/10 [==============================] - 0s 8ms/step - loss: 0.5930 - accuracy: 0.7917 - val_loss: 0.6969 - val_accuracy: 0.7917\n",
      "Epoch 28/50\n",
      "10/10 [==============================] - 0s 9ms/step - loss: 0.5838 - accuracy: 0.7917 - val_loss: 0.6848 - val_accuracy: 0.7917\n",
      "Epoch 29/50\n",
      "10/10 [==============================] - 0s 9ms/step - loss: 0.5748 - accuracy: 0.7917 - val_loss: 0.6730 - val_accuracy: 0.7917\n",
      "Epoch 30/50\n",
      "10/10 [==============================] - 0s 9ms/step - loss: 0.5658 - accuracy: 0.7917 - val_loss: 0.6618 - val_accuracy: 0.7917\n",
      "Epoch 31/50\n",
      "10/10 [==============================] - 0s 8ms/step - loss: 0.5575 - accuracy: 0.7917 - val_loss: 0.6495 - val_accuracy: 0.8333\n",
      "Epoch 32/50\n",
      "10/10 [==============================] - 0s 9ms/step - loss: 0.5486 - accuracy: 0.7917 - val_loss: 0.6388 - val_accuracy: 0.8333\n",
      "Epoch 33/50\n",
      "10/10 [==============================] - 0s 10ms/step - loss: 0.5403 - accuracy: 0.7917 - val_loss: 0.6288 - val_accuracy: 0.8333\n",
      "Epoch 34/50\n",
      "10/10 [==============================] - 0s 9ms/step - loss: 0.5323 - accuracy: 0.7917 - val_loss: 0.6195 - val_accuracy: 0.8333\n",
      "Epoch 35/50\n",
      "10/10 [==============================] - 0s 10ms/step - loss: 0.5242 - accuracy: 0.7917 - val_loss: 0.6106 - val_accuracy: 0.8333\n",
      "Epoch 36/50\n",
      "10/10 [==============================] - 0s 9ms/step - loss: 0.5168 - accuracy: 0.7917 - val_loss: 0.6017 - val_accuracy: 0.8333\n",
      "Epoch 37/50\n",
      "10/10 [==============================] - 0s 7ms/step - loss: 0.5094 - accuracy: 0.7917 - val_loss: 0.5930 - val_accuracy: 0.8333\n",
      "Epoch 38/50\n",
      "10/10 [==============================] - 0s 8ms/step - loss: 0.5024 - accuracy: 0.7917 - val_loss: 0.5840 - val_accuracy: 0.8333\n",
      "Epoch 39/50\n",
      "10/10 [==============================] - 0s 8ms/step - loss: 0.4954 - accuracy: 0.7917 - val_loss: 0.5764 - val_accuracy: 0.8333\n",
      "Epoch 40/50\n",
      "10/10 [==============================] - 0s 8ms/step - loss: 0.4887 - accuracy: 0.7917 - val_loss: 0.5692 - val_accuracy: 0.8333\n",
      "Epoch 41/50\n",
      "10/10 [==============================] - 0s 9ms/step - loss: 0.4822 - accuracy: 0.8021 - val_loss: 0.5616 - val_accuracy: 0.8333\n",
      "Epoch 42/50\n",
      "10/10 [==============================] - 0s 8ms/step - loss: 0.4762 - accuracy: 0.8021 - val_loss: 0.5538 - val_accuracy: 0.8333\n",
      "Epoch 43/50\n",
      "10/10 [==============================] - 0s 8ms/step - loss: 0.4699 - accuracy: 0.8021 - val_loss: 0.5486 - val_accuracy: 0.8333\n",
      "Epoch 44/50\n",
      "10/10 [==============================] - 0s 7ms/step - loss: 0.4642 - accuracy: 0.8021 - val_loss: 0.5420 - val_accuracy: 0.8333\n",
      "Epoch 45/50\n",
      "10/10 [==============================] - 0s 8ms/step - loss: 0.4586 - accuracy: 0.8021 - val_loss: 0.5363 - val_accuracy: 0.8333\n",
      "Epoch 46/50\n",
      "10/10 [==============================] - 0s 7ms/step - loss: 0.4527 - accuracy: 0.8021 - val_loss: 0.5309 - val_accuracy: 0.8333\n",
      "Epoch 47/50\n",
      "10/10 [==============================] - 0s 6ms/step - loss: 0.4475 - accuracy: 0.8021 - val_loss: 0.5255 - val_accuracy: 0.8333\n",
      "Epoch 48/50\n",
      "10/10 [==============================] - 0s 10ms/step - loss: 0.4425 - accuracy: 0.8021 - val_loss: 0.5198 - val_accuracy: 0.8333\n",
      "Epoch 49/50\n",
      "10/10 [==============================] - 0s 8ms/step - loss: 0.4375 - accuracy: 0.8021 - val_loss: 0.5156 - val_accuracy: 0.8333\n",
      "Epoch 50/50\n",
      "10/10 [==============================] - 0s 9ms/step - loss: 0.4322 - accuracy: 0.8021 - val_loss: 0.5110 - val_accuracy: 0.8333\n"
     ]
    }
   ],
   "source": [
    "#y_train = tf.sparse.to_dense(y_train)\n",
    "\n",
    "history = model.fit(\n",
    "    X_train, y_train,\n",
    "    epochs=50,                       # Anzahl der Epochen\n",
    "    batch_size=10,                   # Batchgröße\n",
    "    validation_split=0.2,            # Validierungsdaten (20 % der Trainingsdaten)\n",
    "    verbose=1                        # Fortschrittsanzeige\n",
    ")"
   ]
  },
  {
   "cell_type": "markdown",
   "metadata": {
    "id": "YbRmuYtGaqxP"
   },
   "source": [
    "# Modell bewerten"
   ]
  },
  {
   "cell_type": "code",
   "execution_count": 6,
   "metadata": {
    "colab": {
     "base_uri": "https://localhost:8080/"
    },
    "id": "Yj8fxxWpaqa0",
    "outputId": "9bf433e1-97b6-44f8-9a25-82e9b4ca58a7"
   },
   "outputs": [
    {
     "name": "stdout",
     "output_type": "stream",
     "text": [
      "1/1 [==============================] - 0s 34ms/step - loss: 0.3885 - accuracy: 0.9000\n",
      "Testverlust: 0.3885\n",
      "Testgenauigkeit: 0.9000\n"
     ]
    }
   ],
   "source": [
    "loss, accuracy = model.evaluate(X_test, y_test)\n",
    "print(f\"Testverlust: {loss:.4f}\")\n",
    "print(f\"Testgenauigkeit: {accuracy:.4f}\")"
   ]
  },
  {
   "cell_type": "code",
   "execution_count": 7,
   "metadata": {
    "colab": {
     "base_uri": "https://localhost:8080/",
     "height": 607
    },
    "id": "K3wPxEbni0EW",
    "outputId": "acea7986-394d-4cf4-f8d3-78bbc499c7cd"
   },
   "outputs": [
    {
     "data": {
      "image/png": "[encoded data removed]",
      "text/plain": [
       "<Figure size 1152x432 with 2 Axes>"
      ]
     },
     "metadata": {},
     "output_type": "display_data"
    }
   ],
   "source": [
    "# Trainingshistorie aus dem Modell\n",
    "history_dict = history.history\n",
    "\n",
    "# Zugriff auf die Loss- und Accuracy-Werte\n",
    "loss = history_dict['loss']             # Trainingsverlust\n",
    "val_loss = history_dict['val_loss']     # Validierungsverlust\n",
    "accuracy = history_dict['accuracy']     # Trainingsgenauigkeit\n",
    "val_accuracy = history_dict['val_accuracy']  # Validierungsgenauigkeit\n",
    "\n",
    "# Erstellen von zwei separaten Plots\n",
    "epochs = range(1, len(loss) + 1)\n",
    "fig, ax = plt.subplots(1, 2, figsize=(16, 6))\n",
    "\n",
    "# Subplot 1: Loss\n",
    "ax[0].plot(epochs, loss, 'b-', label='Training Loss')\n",
    "ax[0].plot(epochs, val_loss, 'r-', label='Validation Loss')\n",
    "ax[0].set_title('Loss During Training and Validation')\n",
    "ax[0].set_xlabel('Epochs')\n",
    "ax[0].set_ylabel('Loss')\n",
    "ax[0].legend()\n",
    "ax[0].grid()\n",
    "\n",
    "# Subplot 2: Accuracy\n",
    "ax[1].plot(epochs, accuracy, 'b-', label='Training Accuracy')\n",
    "ax[1].plot(epochs, val_accuracy, 'r-', label='Validation Accuracy')\n",
    "ax[1].set_title('Accuracy During Training and Validation')\n",
    "ax[1].set_xlabel('Epochs')\n",
    "ax[1].set_ylabel('Accuracy')\n",
    "ax[1].legend()\n",
    "ax[1].grid()\n",
    "\n",
    "# Layout anpassen und anzeigen\n",
    "plt.tight_layout()\n",
    "plt.show()"
   ]
  },
  {
   "cell_type": "markdown",
   "metadata": {
    "id": "2-fAB35fax3M"
   },
   "source": [
    "# Modell anwenden und Vorhersagen treffen"
   ]
  },
  {
   "cell_type": "code",
   "execution_count": 8,
   "metadata": {
    "colab": {
     "base_uri": "https://localhost:8080/"
    },
    "id": "dv5xYWYaa2qK",
    "outputId": "71ad31ef-6bfe-4bd3-8cf1-d0dabe999f4d"
   },
   "outputs": [
    {
     "name": "stdout",
     "output_type": "stream",
     "text": [
      "1/1 [==============================] - 0s 95ms/step\n",
      "Vorhergesagte Klassen: [1 0 2 2 2 0 1 2 1 1 2 0 0 0 0 2 2 1 1 2 0 2 0 2 2 2 2 2 0 0]\n",
      "Tatsächliche Klassen: [1 0 2 1 1 0 1 2 1 1 2 0 0 0 0 1 2 1 1 2 0 2 0 2 2 2 2 2 0 0]\n"
     ]
    }
   ],
   "source": [
    "y_pred = model.predict(X_test)\n",
    "y_pred_classes = np.argmax(y_pred, axis=1)  # Vorhergesagte Klassen\n",
    "y_true_classes = np.argmax(y_test, axis=1)  # Tatsächliche Klassen\n",
    "\n",
    "# Ergebnisse anzeigen\n",
    "print(\"Vorhergesagte Klassen:\", y_pred_classes)\n",
    "print(\"Tatsächliche Klassen:\", y_true_classes)"
   ]
  },
  {
   "cell_type": "code",
   "execution_count": 9,
   "metadata": {
    "colab": {
     "base_uri": "https://localhost:8080/",
     "height": 472
    },
    "id": "o8s4u5-fhx9Y",
    "outputId": "9be9783d-117d-4c47-a41e-47fceb00ca55"
   },
   "outputs": [
    {
     "data": {
      "image/png": "[encoded data removed]",
      "text/plain": [
       "<Figure size 432x288 with 2 Axes>"
      ]
     },
     "metadata": {},
     "output_type": "display_data"
    }
   ],
   "source": [
    "from sklearn.metrics import confusion_matrix, ConfusionMatrixDisplay\n",
    "# Konfusionsmatrix berechnen\n",
    "conf_matrix = confusion_matrix(y_true_classes, y_pred_classes)\n",
    "\n",
    "# Konfusionsmatrix visualisieren\n",
    "disp = ConfusionMatrixDisplay(confusion_matrix=conf_matrix, display_labels=iris.target_names)\n",
    "disp.plot(cmap=\"Blues\", values_format=\"d\")\n",
    "plt.title(\"Confusion Matrix\")\n",
    "plt.show()"
   ]
  },
  {
   "cell_type": "code",
   "execution_count": null,
   "metadata": {},
   "outputs": [],
   "source": []
  }
 ],
 "metadata": {
  "colab": {
   "provenance": []
  },
  "kernelspec": {
   "display_name": "Python 3 (Spyder)",
   "language": "python3",
   "name": "python3"
  },
  "language_info": {
   "codemirror_mode": {
    "name": "ipython",
    "version": 3
   },
   "file_extension": ".py",
   "mimetype": "text/x-python",
   "name": "python",
   "nbconvert_exporter": "python",
   "pygments_lexer": "ipython3",
   "version": "3.11.4"
  }
 },
 "nbformat": 4,
 "nbformat_minor": 4
}
