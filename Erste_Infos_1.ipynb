{
 "cells": [
  {
   "cell_type": "markdown",
   "metadata": {
    "id": "vfCtgy8ReWeF"
   },
   "source": [
    "# Erste Infos für die Veranstaltung\n",
    "\n",
    "## Termine und Ablauf\n",
    "\n",
    "+ 01.11.: Einstieg, Überblick, erste Schritte --> 🔨 Übungen\n",
    "+ 06.11.: Statistik und Explorative Datenanalyse --> 🔨 Übungen\n",
    "+ 22.11.: Statistische Modelle - Machine Learning (ML) - Teil 1 --> 🔨 Übungen\n",
    "+ 29.11.: ML- Teil 2 --> 🔨 Übungen\n",
    "+ 06.12.: Nikolaus!! Visualisierung, Vorbereitung Abschlussaufgabe --> 🔨 Übungen\n",
    "+ 22.12.: Abgabe der Abschlussarbeit als Py-Notebook\n",
    "\n",
    "⭐\n",
    "\n",
    "## Wichtige Links\n",
    "\n",
    "* GitHub Repository für Vorlesungsmaterialien: https://github.com/geoclaudsch/DASC-2024\n",
    "* Nextcloud für Übungsaufgaben-Abgabe:\n",
    "* **Email bei Fragen: claudia.schuetze@ufz.de**\n",
    "* Telefon"
   ]
  },
  {
   "cell_type": "code",
   "execution_count": 8,
   "metadata": {
    "colab": {
     "base_uri": "https://localhost:8080/"
    },
    "id": "3n50yVF6eJYi",
    "outputId": "42f3529a-d397-4d0b-f226-d7bbfee93ecc"
   },
   "outputs": [
    {
     "name": "stdout",
     "output_type": "stream",
     "text": [
      "Hello world!\n"
     ]
    }
   ],
   "source": [
    "print('Hello world!')"
   ]
  },
  {
   "cell_type": "code",
   "execution_count": null,
   "metadata": {},
   "outputs": [],
   "source": []
  }
 ],
 "metadata": {
  "colab": {
   "provenance": []
  },
  "kernelspec": {
   "display_name": "anaconda-2022.05-py39",
   "language": "python",
   "name": "conda-env-anaconda-2022.05-py39-py"
  },
  "language_info": {
   "codemirror_mode": {
    "name": "ipython",
    "version": 3
   },
   "file_extension": ".py",
   "mimetype": "text/x-python",
   "name": "python",
   "nbconvert_exporter": "python",
   "pygments_lexer": "ipython3",
   "version": "3.9.12"
  }
 },
 "nbformat": 4,
 "nbformat_minor": 4
}
