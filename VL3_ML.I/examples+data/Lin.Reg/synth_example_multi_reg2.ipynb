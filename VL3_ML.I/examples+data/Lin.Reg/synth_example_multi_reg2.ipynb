{
 "cells": [
  {
   "cell_type": "markdown",
   "id": "f58387c7-a1cf-4322-95fd-c7f5b3e7e45f",
   "metadata": {},
   "source": [
    "# Simples Beispiel für eine multiple Regression\n",
    "\n",
    "* selbst erzeugte, verrauschte Daten y = f(X,Z)\n",
    "* lineare Abhängigkeit von X und Z"
   ]
  },
  {
   "cell_type": "code",
   "execution_count": 10,
   "id": "324fe4d0-c14a-4e50-aea3-de47daa0dd04",
   "metadata": {},
   "outputs": [],
   "source": [
    "import numpy as np\n",
    "import pandas as pd\n",
    "import matplotlib.pyplot as plt\n",
    "from sklearn.linear_model import LinearRegression\n",
    "from sklearn.model_selection import train_test_split\n",
    "from sklearn.metrics import mean_squared_error, r2_score"
   ]
  },
  {
   "cell_type": "code",
   "execution_count": 3,
   "id": "072e4976-bfd6-45e6-a911-874308f17bff",
   "metadata": {},
   "outputs": [],
   "source": [
    "# Daten erzeugen\n",
    "np.random.seed(42)\n",
    "X = np.random.rand(100, 1) * 10  # Unabhängige Variable 1: Werte zwischen 0 und 10\n",
    "Z = np.random.rand(100, 1) * 10  # Unabhängige Variable 2: Werte zwischen 0 und 10\n",
    "y = 2.5 * X.flatten() + 3.0 * Z.flatten() + 5 + np.random.normal(0, 2, 100)  # Zielvariable mit Rauschen\n",
    "\n",
    "# Daten in DataFrame packen\n",
    "data = pd.DataFrame({'X': X.flatten(), 'Z': Z.flatten(), 'y': y})"
   ]
  },
  {
   "cell_type": "markdown",
   "id": "786d6b4d-15de-4648-a204-8b5cea67834f",
   "metadata": {},
   "source": [
    "## Organisation in Trainings- und Testdaten"
   ]
  },
  {
   "cell_type": "code",
   "execution_count": 4,
   "id": "1d695816-3d70-4c28-85fb-39b4b99d90b4",
   "metadata": {},
   "outputs": [],
   "source": [
    "X_combined = np.hstack((X, Z))  # Kombination der beiden Prädiktoren\n",
    "X_train, X_test, y_train, y_test = train_test_split(X_combined, y, test_size=0.2, random_state=42)"
   ]
  },
  {
   "cell_type": "markdown",
   "id": "d4c1cc15-e2ed-48a1-aec7-6f39b7c04162",
   "metadata": {},
   "source": [
    "## Lineare Regression mit zwei Prädiktoren"
   ]
  },
  {
   "cell_type": "markdown",
   "id": "6708d0d2-8de7-41c6-983f-d1c3cba40a2d",
   "metadata": {},
   "source": [
    "## Modellergebnis und Modellgüte\n",
    "\n",
    "* Modellkoeffizienten und Intercept\n",
    "* R^2"
   ]
  },
  {
   "cell_type": "markdown",
   "id": "5e059f39-dd36-4f17-ba95-ac6c8965fa41",
   "metadata": {},
   "source": [
    "## Visualisierung"
   ]
  },
  {
   "cell_type": "code",
   "execution_count": null,
   "id": "8e725fc4-c6bd-4107-ae60-00713af5af78",
   "metadata": {},
   "outputs": [],
   "source": []
  }
 ],
 "metadata": {
  "kernelspec": {
   "display_name": "Python 3 (Spyder)",
   "language": "python3",
   "name": "python3"
  },
  "language_info": {
   "codemirror_mode": {
    "name": "ipython",
    "version": 3
   },
   "file_extension": ".py",
   "mimetype": "text/x-python",
   "name": "python",
   "nbconvert_exporter": "python",
   "pygments_lexer": "ipython3",
   "version": "3.11.4"
  }
 },
 "nbformat": 4,
 "nbformat_minor": 5
}
